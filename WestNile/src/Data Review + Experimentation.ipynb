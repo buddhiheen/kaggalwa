{
 "cells": [
  {
   "cell_type": "markdown",
   "metadata": {},
   "source": [
    "Basic experimentation\n",
    "=============\n",
    "\n",
    "Step 1\n",
    "----\n",
    "\n",
    "Make sure imports are fine and we can read data\n",
    "\n"
   ]
  },
  {
   "cell_type": "code",
   "execution_count": 1,
   "metadata": {
    "collapsed": false
   },
   "outputs": [
    {
     "name": "stdout",
     "output_type": "stream",
     "text": [
      "<class 'pandas.core.frame.DataFrame'>\n",
      "RangeIndex: 10506 entries, 0 to 10505\n",
      "Data columns (total 12 columns):\n",
      "Date                      10506 non-null object\n",
      "Address                   10506 non-null object\n",
      "Species                   10506 non-null object\n",
      "Block                     10506 non-null int64\n",
      "Street                    10506 non-null object\n",
      "Trap                      10506 non-null object\n",
      "AddressNumberAndStreet    10506 non-null object\n",
      "Latitude                  10506 non-null float64\n",
      "Longitude                 10506 non-null float64\n",
      "AddressAccuracy           10506 non-null int64\n",
      "NumMosquitos              10506 non-null int64\n",
      "WnvPresent                10506 non-null int64\n",
      "dtypes: float64(2), int64(4), object(6)\n",
      "memory usage: 985.0+ KB\n"
     ]
    }
   ],
   "source": [
    "%matplotlib inline\n",
    "\n",
    "import numpy as np\n",
    "import pandas as pd\n",
    "import matplotlib.pyplot as plt\n",
    "import os\n",
    "\n",
    "try:\n",
    "    train = pd.read_csv('../input/train.csv')\n",
    "except:\n",
    "    print \"Error Reading Training Dataset CSV\"\n",
    "\n",
    "    \n",
    "try:\n",
    "    spray = pd.read_csv('../input/spray.csv')\n",
    "except:\n",
    "    print \"Error Reading Spray Dataset CSV\"\n",
    "\n",
    "try:\n",
    "    weather = pd.read_csv('../input/weather.csv')\n",
    "except:\n",
    "    print \"Error Reading Weather Dataset CSV\"\n",
    "\n",
    "    \n",
    "try:\n",
    "    test = pd.read_csv('../input/test.csv')\n",
    "except:\n",
    "    print \"Error Reading Test Dataset CSV\"\n",
    "    \n",
    "train.info()\n"
   ]
  },
  {
   "cell_type": "markdown",
   "metadata": {},
   "source": [
    "Step 2\n",
    "----\n",
    "\n",
    "Merge weather data with training and test data to prepare a \"big ass object\""
   ]
  },
  {
   "cell_type": "code",
   "execution_count": 2,
   "metadata": {
    "collapsed": false
   },
   "outputs": [
    {
     "name": "stdout",
     "output_type": "stream",
     "text": [
      "<class 'pandas.core.frame.DataFrame'>\n",
      "RangeIndex: 2944 entries, 0 to 2943\n",
      "Data columns (total 22 columns):\n",
      "Station_1        2944 non-null int64\n",
      "Date_1           2944 non-null object\n",
      "Tmax_1           2944 non-null int64\n",
      "Tmin_1           2944 non-null int64\n",
      "Tavg_1           2944 non-null object\n",
      "Depart_1         2944 non-null object\n",
      "DewPoint_1       2944 non-null int64\n",
      "WetBulb_1        2944 non-null object\n",
      "Heat_1           2944 non-null object\n",
      "Cool_1           2944 non-null object\n",
      "Sunrise_1        2944 non-null object\n",
      "Sunset_1         2944 non-null object\n",
      "CodeSum_1        2944 non-null object\n",
      "Depth_1          2944 non-null object\n",
      "Water1_1         2944 non-null object\n",
      "SnowFall_1       2944 non-null object\n",
      "PrecipTotal_1    2944 non-null object\n",
      "StnPressure_1    2944 non-null object\n",
      "SeaLevel_1       2944 non-null object\n",
      "ResultSpeed_1    2944 non-null float64\n",
      "ResultDir_1      2944 non-null int64\n",
      "AvgSpeed_1       2944 non-null object\n",
      "dtypes: float64(1), int64(5), object(16)\n",
      "memory usage: 506.1+ KB\n",
      "<class 'pandas.core.frame.DataFrame'>\n",
      "RangeIndex: 2944 entries, 0 to 2943\n",
      "Data columns (total 22 columns):\n",
      "Station_2        2944 non-null int64\n",
      "Date_2           2944 non-null object\n",
      "Tmax_2           2944 non-null int64\n",
      "Tmin_2           2944 non-null int64\n",
      "Tavg_2           2944 non-null object\n",
      "Depart_2         2944 non-null object\n",
      "DewPoint_2       2944 non-null int64\n",
      "WetBulb_2        2944 non-null object\n",
      "Heat_2           2944 non-null object\n",
      "Cool_2           2944 non-null object\n",
      "Sunrise_2        2944 non-null object\n",
      "Sunset_2         2944 non-null object\n",
      "CodeSum_2        2944 non-null object\n",
      "Depth_2          2944 non-null object\n",
      "Water1_2         2944 non-null object\n",
      "SnowFall_2       2944 non-null object\n",
      "PrecipTotal_2    2944 non-null object\n",
      "StnPressure_2    2944 non-null object\n",
      "SeaLevel_2       2944 non-null object\n",
      "ResultSpeed_2    2944 non-null float64\n",
      "ResultDir_2      2944 non-null int64\n",
      "AvgSpeed_2       2944 non-null object\n",
      "dtypes: float64(1), int64(5), object(16)\n",
      "memory usage: 506.1+ KB\n"
     ]
    }
   ],
   "source": [
    "#merging Weather Data with the training dataframe\n",
    "train.shape\n",
    "test.shape\n",
    "\n",
    "columns = []\n",
    "original_columns = [weather.columns]\n",
    "for i in original_columns:\n",
    "    columns.append(i+'_1')\n",
    "weather.columns = columns\n",
    "weather.info()\n",
    "#add data from station 1\n",
    "train_weather = train.merge(right=weather[weather.Station_1==1], left_on='Date',right_on='Date_1',how='left')\n",
    "train_weather.shape\n",
    "\n",
    "\n",
    "columns =[]\n",
    "for i in original_columns:\n",
    "    columns.append(i+'_2')\n",
    "weather.columns = columns\n",
    "weather.info()\n",
    "#add data from station 2\n",
    "train_weather = train_weather.merge(right=weather[weather.Station_2==2], left_on='Date',right_on='Date_2',how='left')\n",
    "train_weather.shape\n",
    "\n",
    "#cleanup\n",
    "del train_weather['Date_1']\n",
    "del train_weather['Date_2']\n",
    "\n",
    "\n"
   ]
  },
  {
   "cell_type": "markdown",
   "metadata": {},
   "source": [
    "Step 3\n",
    "----\n",
    "\n",
    "Use this \"big ass object\" for all your needs"
   ]
  },
  {
   "cell_type": "code",
   "execution_count": 5,
   "metadata": {
    "collapsed": false
   },
   "outputs": [
    {
     "data": {
      "text/plain": [
       "<matplotlib.axes._subplots.AxesSubplot at 0x103a8bdd0>"
      ]
     },
     "execution_count": 5,
     "metadata": {},
     "output_type": "execute_result"
    },
    {
     "data": {
      "image/png": "[encoded data removed]",
      "text/plain": [
       "<matplotlib.figure.Figure at 0x103aabf50>"
      ]
     },
     "metadata": {},
     "output_type": "display_data"
    }
   ],
   "source": [
    "#train_weather.info()\n",
    "plotableraw = train_weather[['Date', 'NumMosquitos']]\n",
    "plotable = plotableraw.groupby('Date')\n",
    "summed = plotable.sum()\n",
    "summed.plot()\n",
    "#plotable.sort_values(by='Date',ascending=False)\n",
    "#plotable.head()\n",
    "#plotable.head().plot(kind='bar')\n",
    "\n"
   ]
  }
 ],
 "metadata": {
  "kernelspec": {
   "display_name": "Python 2",
   "language": "python",
   "name": "python2"
  },
  "language_info": {
   "codemirror_mode": {
    "name": "ipython",
    "version": 2
   },
   "file_extension": ".py",
   "mimetype": "text/x-python",
   "name": "python",
   "nbconvert_exporter": "python",
   "pygments_lexer": "ipython2",
   "version": "2.7.11"
  }
 },
 "nbformat": 4,
 "nbformat_minor": 0
}
